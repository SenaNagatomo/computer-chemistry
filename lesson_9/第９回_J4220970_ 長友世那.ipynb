{
 "cells": [
  {
   "cell_type": "code",
   "execution_count": 1,
   "metadata": {},
   "outputs": [
    {
     "name": "stdout",
     "output_type": "stream",
     "text": [
      "chi2 値は 32.407407407407405\n",
      "p 値は 4.933530471955204e-06\n",
      "有意水準 5% で帰無仮説（一様分布に従う）を破棄:有意差がある\n"
     ]
    }
   ],
   "source": [
    "#課題１\n",
    "import scipy as sp\n",
    "from scipy import stats\n",
    "\n",
    "significance = 0.05\n",
    "o = [90, 50, 10, 30, 40, 30]\n",
    "e = [72, 54, 24, 48, 36, 16]\n",
    "\n",
    "chi2, p = stats.chisquare(o, f_exp=e)\n",
    "print(f'chi2 値は {chi2}')\n",
    "print(f'p 値は {p}')\n",
    "\n",
    "if p < significance:\n",
    "    print('有意水準 5% で帰無仮説（一様分布に従う）を破棄:有意差がある')\n",
    "else:\n",
    "    print('有意水準 5% で帰無仮説を採択:有意差がない')"
   ]
  },
  {
   "cell_type": "code",
   "execution_count": 2,
   "metadata": {},
   "outputs": [
    {
     "name": "stdout",
     "output_type": "stream",
     "text": [
      "t 値は 0.1245562896728593\n",
      "p 値は 0.902279288045752\n",
      "有意水準 5% で帰無仮説を採択:有意差がない\n"
     ]
    }
   ],
   "source": [
    "#課題２\n",
    "import scipy as sp\n",
    "from scipy import stats\n",
    "\n",
    "significance = 0.05\n",
    "X = [78, 85, 92, 74, 88, 90, 81, 79, 84, 87]\n",
    "Y = [80, 83, 89, 76, 91, 87, 82, 81, 78, 88]\n",
    "\n",
    "t, p = stats.ttest_ind(X, Y, equal_var = False)\n",
    "print(f't 値は {t}')\n",
    "print(f'p 値は {p}')\n",
    "\n",
    "if p < significance:\n",
    "    print('有意水準 5% で帰無仮説（一様分布に従う）を破棄:有意差がある')\n",
    "else:\n",
    "    print('有意水準 5% で帰無仮説を採択:有意差がない')"
   ]
  },
  {
   "cell_type": "code",
   "execution_count": 3,
   "metadata": {},
   "outputs": [
    {
     "name": "stdout",
     "output_type": "stream",
     "text": [
      "t 値は -43.81780460041329\n",
      "p 値は 8.388926672109952e-12\n",
      "有意水準 5% で帰無仮説（一様分布に従う）を破棄:有意差がある\n"
     ]
    }
   ],
   "source": [
    "#課題３\n",
    "import scipy as sp\n",
    "from scipy import stats\n",
    "\n",
    "significance = 0.05\n",
    "X = [70, 72, 75, 68, 73, 71, 74, 69, 72, 70]\n",
    "Y = [85, 88, 92, 84, 90, 87, 89, 85, 86, 88]\n",
    "\n",
    "t, p = stats.ttest_rel(X, Y)\n",
    "print(f't 値は {t}')\n",
    "print(f'p 値は {p}')\n",
    "\n",
    "if p < significance:\n",
    "    print('有意水準 5% で帰無仮説（一様分布に従う）を破棄:有意差がある')\n",
    "else:\n",
    "    print('有意水準 5% で帰無仮説を採択:有意差がない')"
   ]
  },
  {
   "cell_type": "code",
   "execution_count": 4,
   "metadata": {},
   "outputs": [
    {
     "name": "stdout",
     "output_type": "stream",
     "text": [
      "f 値は 175.9653739612189\n",
      "p 値は 3.257263411108032e-16\n",
      "有意水準 5% で帰無仮説（一様分布に従う）を破棄:有意差がある\n"
     ]
    }
   ],
   "source": [
    "#課題４\n",
    "import scipy as sp\n",
    "from scipy import stats\n",
    "\n",
    "significance = 0.05\n",
    "X = [78, 82, 85, 88, 84, 83, 86, 81, 87, 89]\n",
    "Y = [91, 94, 93, 92, 95, 90, 96, 94, 93, 92]\n",
    "Z = [65, 68, 70, 72, 67, 69, 71, 66, 73, 74]\n",
    "\n",
    "f, p = stats.f_oneway(X, Y, Z)\n",
    "print(f'f 値は {f}')\n",
    "print(f'p 値は {p}')\n",
    "\n",
    "if p < significance:\n",
    "    print('有意水準 5% で帰無仮説（一様分布に従う）を破棄:有意差がある')\n",
    "else:\n",
    "    print('有意水準 5% で帰無仮説を採択:有意差がない')"
   ]
  },
  {
   "cell_type": "code",
   "execution_count": 5,
   "metadata": {},
   "outputs": [
    {
     "data": {
      "image/png": "[encoded data removed]",
      "text/latex": [
       "$\\displaystyle \\frac{d}{d x} \\sin{\\left(x \\right)} = \\cos{\\left(x \\right)}$"
      ],
      "text/plain": [
       "d                  \n",
       "──(sin(x)) = cos(x)\n",
       "dx                 "
      ]
     },
     "metadata": {},
     "output_type": "display_data"
    },
    {
     "data": {
      "image/png": "[encoded data removed]",
      "text/latex": [
       "$\\displaystyle \\frac{d}{d x} e^{2 x} = 2 e^{2 x}$"
      ],
      "text/plain": [
       "d ⎛ 2⋅x⎞      2⋅x\n",
       "──⎝ℯ   ⎠ = 2⋅ℯ   \n",
       "dx               "
      ]
     },
     "metadata": {},
     "output_type": "display_data"
    },
    {
     "data": {
      "image/png": "[encoded data removed]",
      "text/latex": [
       "$\\displaystyle \\frac{d}{d x} \\log{\\left(x^{2} \\right)} = \\frac{2}{x}$"
      ],
      "text/plain": [
       "d ⎛   ⎛ 2⎞⎞   2\n",
       "──⎝log⎝x ⎠⎠ = ─\n",
       "dx            x"
      ]
     },
     "metadata": {},
     "output_type": "display_data"
    },
    {
     "data": {
      "image/png": "[encoded data removed]",
      "text/latex": [
       "$\\displaystyle \\frac{\\partial}{\\partial x} \\left(x^{3} + 2 x^{2} y + y^{3}\\right) = 3 x^{2} + 4 x y$"
      ],
      "text/plain": [
       "∂ ⎛ 3      2      3⎞      2        \n",
       "──⎝x  + 2⋅x ⋅y + y ⎠ = 3⋅x  + 4⋅x⋅y\n",
       "∂x                                 "
      ]
     },
     "metadata": {},
     "output_type": "display_data"
    },
    {
     "data": {
      "image/png": "[encoded data removed]",
      "text/latex": [
       "$\\displaystyle \\frac{\\partial}{\\partial x} x^{2} \\log{\\left(y \\right)} = 2 x \\log{\\left(y \\right)}$"
      ],
      "text/plain": [
       "∂ ⎛ 2       ⎞             \n",
       "──⎝x ⋅log(y)⎠ = 2⋅x⋅log(y)\n",
       "∂x                        "
      ]
     },
     "metadata": {},
     "output_type": "display_data"
    }
   ],
   "source": [
    "#課題５\n",
    "import sympy as sym\n",
    "from sympy.plotting import plot\n",
    "sym.init_printing(use_unicode=True)\n",
    "%matplotlib inline\n",
    "\n",
    "x = sym.Symbol('x')\n",
    "y = sym.Symbol('y')\n",
    "expr_1 = sym.sin(x)\n",
    "expr_2 = sym.exp(2*x)\n",
    "expr_3 = sym.log(x**2)\n",
    "expr_4 = x**3 + 2*x**2*y + y**3\n",
    "expr_5 = x**2*sym.log(y)\n",
    "exprs = [expr_1, expr_2, expr_3, expr_4, expr_5]\n",
    "for i in exprs:\n",
    "    eq = sym.Eq(sym.Derivative(i, x), sym.diff(i, x))\n",
    "    display(eq)"
   ]
  },
  {
   "cell_type": "code",
   "execution_count": 6,
   "metadata": {},
   "outputs": [
    {
     "data": {
      "image/png": "[encoded data removed]",
      "text/latex": [
       "$\\displaystyle f{\\left(x \\right)} = \\left(C_{1} \\sin{\\left(2 x \\right)} + C_{2} \\cos{\\left(2 x \\right)}\\right) e^{x}$"
      ],
      "text/plain": [
       "                                    x\n",
       "f(x) = (C₁⋅sin(2⋅x) + C₂⋅cos(2⋅x))⋅ℯ "
      ]
     },
     "metadata": {},
     "output_type": "display_data"
    },
    {
     "data": {
      "image/png": "[encoded data removed]",
      "text/latex": [
       "$\\displaystyle f{\\left(x \\right)} = \\frac{e^{x} \\sin{\\left(2 x \\right)}}{2}$"
      ],
      "text/plain": [
       "        x         \n",
       "       ℯ ⋅sin(2⋅x)\n",
       "f(x) = ───────────\n",
       "            2     "
      ]
     },
     "metadata": {},
     "output_type": "display_data"
    },
    {
     "data": {
      "image/png": "[encoded data removed]",
      "text/latex": [
       "$\\displaystyle f{\\left(2 \\right)} = -2.79602804682049$"
      ],
      "text/plain": [
       "f(2) = -2.79602804682049"
      ]
     },
     "metadata": {},
     "output_type": "display_data"
    }
   ],
   "source": [
    "#課題６\n",
    "\n",
    "import sympy as sym\n",
    "from sympy.plotting import plot\n",
    "sym.init_printing(use_unicode=True)\n",
    "%matplotlib inline\n",
    "\n",
    "x = sym.Symbol('x')\n",
    "f = sym.Function('f')\n",
    "eq = sym.Eq(f(x).diff(x, 2) - 2 * f(x).diff(x, 1) + 5 * f(x), 0)\n",
    "ans_1 = sym.dsolve(eq)\n",
    "ans_2 = sym.dsolve(eq, ics={f(0):0, f(x).diff(x, 1).subs(x, 0):1})\n",
    "ans_3 = ans_2.subs(x, 2).evalf()\n",
    "anss = [ans_1, ans_2, ans_3]\n",
    "\n",
    "for i in anss:\n",
    "    display(i)"
   ]
  },
  {
   "cell_type": "code",
   "execution_count": null,
   "metadata": {},
   "outputs": [
    {
     "name": "stdout",
     "output_type": "stream",
     "text": [
      "Collecting sympy==1.9\n",
      "  Downloading sympy-1.9-py3-none-any.whl.metadata (12 kB)\n",
      "Requirement already satisfied: mpmath>=0.19 in /opt/anaconda3/lib/python3.12/site-packages (from sympy==1.9) (1.3.0)\n",
      "Downloading sympy-1.9-py3-none-any.whl (6.2 MB)\n",
      "\u001b[2K   \u001b[90m━━━━━━━━━━━━━━━━━━━━━━━━━━━━━━━━━━━━━━━━\u001b[0m \u001b[32m6.2/6.2 MB\u001b[0m \u001b[31m11.4 MB/s\u001b[0m eta \u001b[36m0:00:00\u001b[0ma \u001b[36m0:00:01\u001b[0m\n",
      "\u001b[?25hInstalling collected packages: sympy\n",
      "  Attempting uninstall: sympy\n",
      "    Found existing installation: sympy 1.13.2\n",
      "    Uninstalling sympy-1.13.2:\n",
      "      Successfully uninstalled sympy-1.13.2\n",
      "Successfully installed sympy-1.9\n"
     ]
    },
    {
     "data": {
      "image/png": "[encoded data removed]",
      "text/latex": [
       "$\\displaystyle \\int x^{2}\\, dx = \\frac{x^{3}}{3}$"
      ],
      "text/plain": [
       "⌠          3\n",
       "⎮  2      x \n",
       "⎮ x  dx = ──\n",
       "⌡         3 "
      ]
     },
     "metadata": {},
     "output_type": "display_data"
    },
    {
     "data": {
      "text/latex": [
       "$\\displaystyle \\int a^{x}\\, dx = \\begin{cases} \\frac{a^{x}}{\\log{\\left(a \\right)}} & \\text{for}\\: \\log{\\left(a \\right)} \\neq 0 \\\\x & \\text{otherwise} \\end{cases}$"
      ],
      "text/plain": [
       "          ⎧   x                  \n",
       "⌠         ⎪  a                   \n",
       "⎮  x      ⎪──────  for log(a) ≠ 0\n",
       "⎮ a  dx = ⎨log(a)                \n",
       "⌡         ⎪                      \n",
       "          ⎪  x       otherwise   \n",
       "          ⎩                      "
      ]
     },
     "metadata": {},
     "output_type": "display_data"
    },
    {
     "data": {
      "image/png": "[encoded data removed]",
      "text/latex": [
       "$\\displaystyle \\int e^{- x}\\, dx = - e^{- x}$"
      ],
      "text/plain": [
       "⌠              \n",
       "⎮  -x        -x\n",
       "⎮ ℯ   dx = -ℯ  \n",
       "⌡              "
      ]
     },
     "metadata": {},
     "output_type": "display_data"
    },
    {
     "data": {
      "image/png": "[encoded data removed]",
      "text/latex": [
       "$\\displaystyle \\int \\frac{1}{x^{2} + 2}\\, dx = \\frac{\\sqrt{2} \\operatorname{atan}{\\left(\\frac{\\sqrt{2} x}{2} \\right)}}{2}$"
      ],
      "text/plain": [
       "                     ⎛√2⋅x⎞\n",
       "⌠             √2⋅atan⎜────⎟\n",
       "⎮   1                ⎝ 2  ⎠\n",
       "⎮ ────── dx = ─────────────\n",
       "⎮  2                2      \n",
       "⎮ x  + 2                   \n",
       "⌡                          "
      ]
     },
     "metadata": {},
     "output_type": "display_data"
    },
    {
     "data": {
      "image/png": "[encoded data removed]",
      "text/latex": [
       "$\\displaystyle \\int \\log{\\left(x \\right)}^{2}\\, dx = x \\log{\\left(x \\right)}^{2} - 2 x \\log{\\left(x \\right)} + 2 x$"
      ],
      "text/plain": [
       "⌠                                          \n",
       "⎮    2              2                      \n",
       "⎮ log (x) dx = x⋅log (x) - 2⋅x⋅log(x) + 2⋅x\n",
       "⌡                                          "
      ]
     },
     "metadata": {},
     "output_type": "display_data"
    }
   ],
   "source": [
    "#課題７\n",
    "import sympy as sym\n",
    "from sympy.plotting import plot\n",
    "sym.init_printing(use_unicode=True)\n",
    "%matplotlib inline\n",
    "\n",
    "x = sym.Symbol('x')\n",
    "a = sym.Symbol('a')\n",
    "\n",
    "expr_1 = x**2\n",
    "expr_2 = a**x\n",
    "expr_3 = sym.exp(-x)\n",
    "expr_4 = 1 / (x**2 + 2)\n",
    "expr_5 = sym.log(x)**2\n",
    "exprs = [expr_1, expr_2, expr_3, expr_4, expr_5]\n",
    "\n",
    "for i in exprs:\n",
    "    eq = sym.Eq(sym.Integral(i, x), sym.integrate(i, x))\n",
    "    display(eq)"
   ]
  },
  {
   "cell_type": "code",
   "execution_count": null,
   "metadata": {},
   "outputs": [
    {
     "ename": "NameError",
     "evalue": "name 'displa' is not defined",
     "output_type": "error",
     "traceback": [
      "\u001b[0;31m---------------------------------------------------------------------------\u001b[0m",
      "\u001b[0;31mNameError\u001b[0m                                 Traceback (most recent call last)",
      "Cell \u001b[0;32mIn[1], line 25\u001b[0m\n\u001b[1;32m     23\u001b[0m \u001b[38;5;28;01mfor\u001b[39;00m i \u001b[38;5;129;01min\u001b[39;00m \u001b[38;5;28mrange\u001b[39m(\u001b[38;5;241m0\u001b[39m, \u001b[38;5;241m3\u001b[39m):\n\u001b[1;32m     24\u001b[0m     eq \u001b[38;5;241m=\u001b[39m sym\u001b[38;5;241m.\u001b[39mEq(sym\u001b[38;5;241m.\u001b[39mIntegral(exprs[i], (x, A[i], B[i])), sym\u001b[38;5;241m.\u001b[39mintegrate(exprs[i], (x, A[i], B[i])))\n\u001b[0;32m---> 25\u001b[0m     displa(eq)\n",
      "\u001b[0;31mNameError\u001b[0m: name 'displa' is not defined"
     ]
    }
   ],
   "source": [
    "#課題８\n",
    "import sympy as sym\n",
    "from sympy.plotting import plot\n",
    "sym.init_printing(use_unicode=True)\n",
    "%matplotlib inline\n",
    "\n",
    "x = sym.Symbol('x')\n",
    "\n",
    "expr_1 = x**2 * sym.exp(-x)\n",
    "expr_2 = sym.exp(-x) * sym.sin(x)\n",
    "expr_3 = x * sym.exp(-x**2)\n",
    "exprs = [expr_1, expr_2, expr_3]\n",
    "\n",
    "a_1 = 1\n",
    "b_1 = 3\n",
    "a_2 = 0\n",
    "b_2 = sym.pi\n",
    "a_3 = -sym.oo\n",
    "b_3 = sym.oo\n",
    "A = [a_1, a_2, a_3]\n",
    "B = [b_1, b_2, b_3]\n",
    "\n",
    "for i in range(0, 3):\n",
    "    eq = sym.Eq(sym.Integral(exprs[i], (x, A[i], B[i])), sym.integrate(exprs[i], (x, A[i], B[i])))\n",
    "    display(eq)"
   ]
  },
  {
   "cell_type": "code",
   "execution_count": null,
   "metadata": {},
   "outputs": [],
   "source": []
  }
 ],
 "metadata": {
  "kernelspec": {
   "display_name": "base",
   "language": "python",
   "name": "python3"
  },
  "language_info": {
   "codemirror_mode": {
    "name": "ipython",
    "version": 3
   },
   "file_extension": ".py",
   "mimetype": "text/x-python",
   "name": "python",
   "nbconvert_exporter": "python",
   "pygments_lexer": "ipython3",
   "version": "3.12.7"
  }
 },
 "nbformat": 4,
 "nbformat_minor": 2
}
